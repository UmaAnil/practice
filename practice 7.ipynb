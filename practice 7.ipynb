{
 "cells": [
  {
   "cell_type": "markdown",
   "id": "8d1ebf29",
   "metadata": {},
   "source": [
    "# numbers not divisibe by 2 and 3 "
   ]
  },
  {
   "cell_type": "code",
   "execution_count": 1,
   "id": "fd1f4ddc",
   "metadata": {},
   "outputs": [
    {
     "name": "stdout",
     "output_type": "stream",
     "text": [
      "1\n",
      "5\n",
      "7\n",
      "11\n",
      "13\n",
      "17\n",
      "19\n",
      "23\n",
      "25\n",
      "29\n",
      "31\n",
      "35\n",
      "37\n",
      "41\n",
      "43\n",
      "47\n",
      "49\n"
     ]
    }
   ],
   "source": [
    "for i in range(1,51):\n",
    "    if(i%2!=0 and i%3!=0):\n",
    "        print(i)"
   ]
  },
  {
   "cell_type": "markdown",
   "id": "2115c2bc",
   "metadata": {},
   "source": [
    "# display grade"
   ]
  },
  {
   "cell_type": "code",
   "execution_count": 2,
   "id": "c0438d63",
   "metadata": {},
   "outputs": [
    {
     "name": "stdout",
     "output_type": "stream",
     "text": [
      "enter marks out of 100:\n",
      "English : 79\n",
      "Maths : 37\n",
      "Physics : 97\n",
      "Chemistry : 16\n",
      "Biology : 79\n",
      "Grade : D\n"
     ]
    }
   ],
   "source": [
    "print(\"enter marks out of 100:\")\n",
    "eng=float(input('English : '))\n",
    "mat=float(input('Maths : '))\n",
    "phy=float(input('Physics : '))\n",
    "chem=float(input('Chemistry : '))\n",
    "bio=float(input('Biology : '))\n",
    "sum=eng+mat+phy+chem+bio\n",
    "perc=(sum/500)*100\n",
    "\n",
    "if(perc>90):\n",
    "    print('Grade : A')\n",
    "elif(perc>80):\n",
    "    print('Grade : B')\n",
    "elif(perc>70):\n",
    "    print('Grade : c')\n",
    "elif(perc>60):\n",
    "    print('Grade : D')\n",
    "elif(perc>50):\n",
    "    print('Grade : E')\n",
    "else:\n",
    "    print('Failed')\n"
   ]
  },
  {
   "cell_type": "markdown",
   "id": "069a2e9b",
   "metadata": {},
   "source": [
    "# numbers divisible by 7 and multiple of 5"
   ]
  },
  {
   "cell_type": "code",
   "execution_count": 4,
   "id": "6e0aa0c5",
   "metadata": {},
   "outputs": [
    {
     "name": "stdout",
     "output_type": "stream",
     "text": [
      "enter range : 700\n",
      "35\n",
      "70\n",
      "105\n",
      "140\n",
      "175\n",
      "210\n",
      "245\n",
      "280\n",
      "315\n",
      "350\n",
      "385\n",
      "420\n",
      "455\n",
      "490\n",
      "525\n",
      "560\n",
      "595\n",
      "630\n",
      "665\n",
      "700\n"
     ]
    }
   ],
   "source": [
    "n=int(input('enter range : '))\n",
    "for i in range(1,n+1):\n",
    "    if(i%35==0):\n",
    "        print(i)"
   ]
  },
  {
   "cell_type": "markdown",
   "id": "12fc30ac",
   "metadata": {},
   "source": [
    "# sum of n natural numbers"
   ]
  },
  {
   "cell_type": "code",
   "execution_count": 5,
   "id": "a372b184",
   "metadata": {},
   "outputs": [
    {
     "name": "stdout",
     "output_type": "stream",
     "text": [
      "enter range : 3\n",
      "6\n"
     ]
    }
   ],
   "source": [
    "n=int(input('enter range : '))\n",
    "sum=0\n",
    "for i in range(n+1):\n",
    "    sum=sum+i\n",
    "print(sum)"
   ]
  },
  {
   "cell_type": "markdown",
   "id": "6bc9e07f",
   "metadata": {},
   "source": [
    "# sum of series 1+1/2+....1/n"
   ]
  },
  {
   "cell_type": "code",
   "execution_count": 9,
   "id": "ca9828d5",
   "metadata": {},
   "outputs": [
    {
     "name": "stdout",
     "output_type": "stream",
     "text": [
      "enter a number : 8\n",
      "2.7178571428571425\n"
     ]
    }
   ],
   "source": [
    "n=int(input('enter a number : '))\n",
    "sum=0\n",
    "for i in range(1,n+1):\n",
    "    sum=sum+(1/i)\n",
    "print(sum)"
   ]
  },
  {
   "cell_type": "markdown",
   "id": "81f80d31",
   "metadata": {},
   "source": [
    "# odd even list"
   ]
  },
  {
   "cell_type": "code",
   "execution_count": 10,
   "id": "455f01d3",
   "metadata": {},
   "outputs": [
    {
     "name": "stdout",
     "output_type": "stream",
     "text": [
      "enter length of list : 6\n",
      "enter elements : \n",
      "1\n",
      "2\n",
      "3\n",
      "4\n",
      "5\n",
      "6\n",
      "[1, 2, 3, 4, 5, 6]\n",
      "odd :  [1, 3, 5]\n",
      "even :  [2, 4, 6]\n"
     ]
    }
   ],
   "source": [
    "list1=[]\n",
    "odd=[]\n",
    "even=[]\n",
    "n=int(input('enter length of list : '))\n",
    "print('enter elements : ')\n",
    "for i in range(0,n):\n",
    "    list1.append(int(input()))\n",
    "print(list1)\n",
    "for ele in list1:\n",
    "    if(ele%2==0):\n",
    "        even.append(ele)\n",
    "    else:\n",
    "        odd.append(ele)\n",
    "print('odd : ',odd)\n",
    "print('even : ',even)"
   ]
  },
  {
   "cell_type": "markdown",
   "id": "78311c0e",
   "metadata": {},
   "source": [
    "# number of words and characters in a string"
   ]
  },
  {
   "cell_type": "code",
   "execution_count": 17,
   "id": "94c48bc5",
   "metadata": {},
   "outputs": [
    {
     "name": "stdout",
     "output_type": "stream",
     "text": [
      "enter a string : hi girls\n",
      "number of words =  2\n",
      "number of characters =  8\n"
     ]
    }
   ],
   "source": [
    "str=input('enter a string : ')\n",
    "str1=str.split()\n",
    "n=len(str1)\n",
    "char=0\n",
    "for ele in str:\n",
    "    char=char+1\n",
    "print('number of words = ',n)\n",
    "print('number of characters = ',char)"
   ]
  },
  {
   "cell_type": "markdown",
   "id": "9a3fd48f",
   "metadata": {},
   "source": [
    " # multiply all items in a dictionary"
   ]
  },
  {
   "cell_type": "code",
   "execution_count": 12,
   "id": "137d0bcf",
   "metadata": {},
   "outputs": [
    {
     "name": "stdout",
     "output_type": "stream",
     "text": [
      "390000\n"
     ]
    }
   ],
   "source": [
    "dict1={'a':10,'b':12,'c':65,'d':10,'e':5}\n",
    "n=1\n",
    "for i in dict1:\n",
    "    n=n*dict1[i]\n",
    "print(n)"
   ]
  },
  {
   "cell_type": "markdown",
   "id": "7d85ec1a",
   "metadata": {},
   "source": [
    "# display letters in two strings but not in both strings"
   ]
  },
  {
   "cell_type": "code",
   "execution_count": 15,
   "id": "dd9e8c38",
   "metadata": {},
   "outputs": [
    {
     "name": "stdout",
     "output_type": "stream",
     "text": [
      "enter a string : jackfruit\n",
      "enter a string : umbrella\n",
      "['u', 'm', 'r', 'k', 'i', 'f', 'b', 'e', 'c', 'l', 't', 'a', 'j']\n"
     ]
    }
   ],
   "source": [
    "str1=input('enter a string : ')\n",
    "str1=set(str1)\n",
    "\n",
    "str2=input('enter a string : ')\n",
    "str2=set(str2)\n",
    "\n",
    "print(list(str1.union(str2)))"
   ]
  },
  {
   "cell_type": "markdown",
   "id": "89e8e867",
   "metadata": {},
   "source": [
    "# map two lists in a dictionary"
   ]
  },
  {
   "cell_type": "code",
   "execution_count": 16,
   "id": "8972c4b0",
   "metadata": {},
   "outputs": [
    {
     "name": "stdout",
     "output_type": "stream",
     "text": [
      "length of dictionary : 2\n",
      "enter elements of list1: \n",
      "1\n",
      "2\n",
      "enter elements of list2: \n",
      "hi\n",
      "good\n",
      "{'1': 'hi', '2': 'good'}\n"
     ]
    }
   ],
   "source": [
    "list1=[]\n",
    "list2=[]\n",
    "n=int(input('length of dictionary : '))\n",
    "\n",
    "print('enter elements of list1: ')\n",
    "for i in range(n):\n",
    "    list1.append(input())\n",
    "    \n",
    "print('enter elements of list2: ')\n",
    "for i in range(n):\n",
    "    list2.append(input())\n",
    "    \n",
    "dict1=dict(zip(list1,list2))\n",
    "print(dict1)\n",
    "    "
   ]
  }
 ],
 "metadata": {
  "kernelspec": {
   "display_name": "Python 3",
   "language": "python",
   "name": "python3"
  },
  "language_info": {
   "codemirror_mode": {
    "name": "ipython",
    "version": 3
   },
   "file_extension": ".py",
   "mimetype": "text/x-python",
   "name": "python",
   "nbconvert_exporter": "python",
   "pygments_lexer": "ipython3",
   "version": "3.8.8"
  }
 },
 "nbformat": 4,
 "nbformat_minor": 5
}
