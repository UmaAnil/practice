{
 "cells": [
  {
   "cell_type": "markdown",
   "id": "6668ec67",
   "metadata": {},
   "source": [
    "# simple calculator"
   ]
  },
  {
   "cell_type": "code",
   "execution_count": null,
   "id": "9206339d",
   "metadata": {
    "scrolled": false
   },
   "outputs": [],
   "source": [
    "def add(a,b):\n",
    "    print(a+b)\n",
    "\n",
    "def sub(a,b):\n",
    "    print(a-b)\n",
    "\n",
    "def mul(a,b):\n",
    "    print(a*b)\n",
    "\n",
    "def div(a,b):\n",
    "    print(a/b)\n",
    "\n",
    "print(\"1. Addition\")\n",
    "print(\"2. Subtraction\")\n",
    "print(\"3. Multiplication\")\n",
    "print(\"4. Division\")\n",
    "while(True):\n",
    "    \n",
    "    a=float(input('enter number 1 : '))\n",
    "    b=float(input('enter number 2 : '))\n",
    "    \n",
    "    n=input(\"Enter a choice....1/2/3/4:  \")\n",
    "\n",
    "    if(n=='1'):\n",
    "        add(a,b)\n",
    "    \n",
    "    elif(n=='2'):\n",
    "        sub(a,b)\n",
    "    \n",
    "    elif(n=='3'):\n",
    "        mul(a,b)\n",
    "    \n",
    "    elif(n=='4'):\n",
    "        div(a,b)\n",
    "\n",
    "    else:\n",
    "        print(\"enter a valid choice\")\n"
   ]
  },
  {
   "cell_type": "markdown",
   "id": "c35e60df",
   "metadata": {},
   "source": [
    "# count of odd and even numbers between 1 and 20"
   ]
  },
  {
   "cell_type": "code",
   "execution_count": 3,
   "id": "406aafed",
   "metadata": {},
   "outputs": [
    {
     "name": "stdout",
     "output_type": "stream",
     "text": [
      "Number of even numbers =  10\n",
      "Number of odd numbers =  10\n"
     ]
    }
   ],
   "source": [
    "count_odd=0\n",
    "count_even=0\n",
    "\n",
    "for i in range(1,21):\n",
    "    if(i%2==0):\n",
    "        count_even+=1\n",
    "    else:\n",
    "        count_odd+=1\n",
    "\n",
    "print('Number of even numbers = ',count_even)\n",
    "print('Number of odd numbers = ',count_odd)"
   ]
  },
  {
   "cell_type": "markdown",
   "id": "06ceb89d",
   "metadata": {},
   "source": [
    "# array sorting"
   ]
  },
  {
   "cell_type": "code",
   "execution_count": 9,
   "id": "cb78835f",
   "metadata": {},
   "outputs": [
    {
     "name": "stdout",
     "output_type": "stream",
     "text": [
      "enter elements of the array : \n",
      "6\n",
      "9\n",
      "8\n",
      "3\n",
      "5\n",
      "1\n",
      "4\n",
      "2\n",
      "7\n",
      "0\n",
      "[6, 9, 8, 3, 5, 1, 4, 2, 7, 0]\n",
      "sorted array is :  [0, 1, 2, 3, 4, 5, 6, 7, 8, 9]\n"
     ]
    }
   ],
   "source": [
    "array=[]\n",
    "print('enter elements of the array : ')\n",
    "for i in range(10):\n",
    "    array.append(int(input()))\n",
    "print(array)\n",
    "array.sort()\n",
    "print('sorted array is : ', array)"
   ]
  },
  {
   "cell_type": "markdown",
   "id": "fa601f4b",
   "metadata": {},
   "source": [
    "# whether number is even and greater than 100"
   ]
  },
  {
   "cell_type": "code",
   "execution_count": 11,
   "id": "2798d015",
   "metadata": {},
   "outputs": [
    {
     "name": "stdout",
     "output_type": "stream",
     "text": [
      "enter a number : 162\n",
      "162  is even and greater than 100.\n"
     ]
    }
   ],
   "source": [
    "n=int(input(\"enter a number : \"))\n",
    "if(n>100 and (n%2==0)):\n",
    "    print(n,\" is even and greater than 100.\")\n",
    "else:\n",
    "     print(\"try another number\")"
   ]
  },
  {
   "cell_type": "markdown",
   "id": "09ad6c0e",
   "metadata": {},
   "source": [
    "# print name and age"
   ]
  },
  {
   "cell_type": "code",
   "execution_count": 13,
   "id": "bcd06f69",
   "metadata": {},
   "outputs": [
    {
     "name": "stdout",
     "output_type": "stream",
     "text": [
      " Name :  anu\n",
      "Age :  13\n"
     ]
    }
   ],
   "source": [
    "def person(name,age):\n",
    "    print(\" Name : \",name)\n",
    "    print(\"Age : \",age)\n",
    "    pass\n",
    "\n",
    "person('anu',13)"
   ]
  },
  {
   "cell_type": "markdown",
   "id": "5e8922f6",
   "metadata": {},
   "source": [
    "# python list of all even numbers between 4 to 30"
   ]
  },
  {
   "cell_type": "code",
   "execution_count": 14,
   "id": "744dead0",
   "metadata": {},
   "outputs": [
    {
     "name": "stdout",
     "output_type": "stream",
     "text": [
      "[4, 6, 8, 10, 12, 14, 16, 18, 20, 22, 24, 26, 28, 30]\n"
     ]
    }
   ],
   "source": [
    "list1=[]\n",
    "for i in range(4,31):\n",
    "    if(i%2==0):\n",
    "        list1.append(i)\n",
    "print(list1)"
   ]
  },
  {
   "cell_type": "markdown",
   "id": "b1b8ca8a",
   "metadata": {},
   "source": [
    "# add list of elements to a given set"
   ]
  },
  {
   "cell_type": "code",
   "execution_count": 21,
   "id": "12aaf5fb",
   "metadata": {},
   "outputs": [
    {
     "name": "stdout",
     "output_type": "stream",
     "text": [
      "enter length of list : 5\n",
      "enter elements : \n",
      "1\n",
      "2\n",
      "3\n",
      "4\n",
      "5\n",
      "[1, 2, 3, 4, 5]\n",
      "{1, 2, 3, 4, 5}\n"
     ]
    }
   ],
   "source": [
    "set1=set()\n",
    "list1=[]\n",
    "\n",
    "n=int(input('enter length of list : '))\n",
    "print('enter elements : ')\n",
    "for i in range(n):\n",
    "    list1.append(int(input()))\n",
    "    \n",
    "print(list1)\n",
    "for ele in list1:\n",
    "    set1.add(ele)\n",
    "    \n",
    "print(set1)\n",
    "    "
   ]
  },
  {
   "cell_type": "markdown",
   "id": "c1adfcef",
   "metadata": {},
   "source": [
    "# new set with all items from both list"
   ]
  },
  {
   "cell_type": "code",
   "execution_count": 1,
   "id": "e3576aa6",
   "metadata": {},
   "outputs": [
    {
     "name": "stdout",
     "output_type": "stream",
     "text": [
      "length of set1 : 3\n",
      "length of set2 : 5\n",
      "input elements of set1: \n",
      "1\n",
      "2\n",
      "3\n",
      "input elements of set2: \n",
      "2\n",
      "3\n",
      "4\n",
      "5\n",
      "6\n",
      "{'1', '3', '5', '6', '2', '4'}\n"
     ]
    }
   ],
   "source": [
    "set1=set()\n",
    "set2=set()\n",
    "set3=set()\n",
    "n1=int(input('length of set1 : '))\n",
    "n2=int(input('length of set2 : '))\n",
    "print('input elements of set1: ')\n",
    "for i in range(n1):\n",
    "    set1.add(input())\n",
    "\n",
    "print('input elements of set2: ')\n",
    "for i in range(n2):\n",
    "    set2.add(input())\n",
    "    \n",
    "set3=set1.union(set2)\n",
    "print(set3)"
   ]
  },
  {
   "cell_type": "markdown",
   "id": "8c23e879",
   "metadata": {},
   "source": [
    "# whether first and last elements of a list is same"
   ]
  },
  {
   "cell_type": "code",
   "execution_count": 3,
   "id": "33b0959f",
   "metadata": {},
   "outputs": [
    {
     "name": "stdout",
     "output_type": "stream",
     "text": [
      "length of list: 5\n",
      "1\n",
      "2\n",
      "3\n",
      "4\n",
      "1\n",
      "True\n"
     ]
    }
   ],
   "source": [
    "list1=[]\n",
    "n=int(input('length of list: '))\n",
    "for i in range(n):\n",
    "    list1.append(int(input())) \n",
    "if(list1[0]==list1[-1]):\n",
    "    print(\"True\")\n",
    "else:\n",
    "    print(\"False\")"
   ]
  },
  {
   "cell_type": "markdown",
   "id": "49d996a4",
   "metadata": {},
   "source": [
    "# print all numbers divisible by 5"
   ]
  },
  {
   "cell_type": "code",
   "execution_count": 9,
   "id": "941bab0c",
   "metadata": {},
   "outputs": [
    {
     "name": "stdout",
     "output_type": "stream",
     "text": [
      "length of list: 5\n",
      "enter elements : \n",
      "20\n",
      "17\n",
      "5\n",
      "15\n",
      "28\n",
      "[20, 17, 5, 15, 28]\n",
      "20\n",
      "5\n",
      "15\n"
     ]
    }
   ],
   "source": [
    "list1=[]\n",
    "n=int(input('length of list: '))\n",
    "print(\"enter elements : \")\n",
    "for i in range(n):\n",
    "    list1.append(int(input()))\n",
    "print(list1)\n",
    "for ele in list1:\n",
    "    if(ele%5 == 0):\n",
    "        print(ele)"
   ]
  },
  {
   "cell_type": "code",
   "execution_count": null,
   "id": "63b24f71",
   "metadata": {},
   "outputs": [],
   "source": []
  },
  {
   "cell_type": "code",
   "execution_count": null,
   "id": "0cb6f42e",
   "metadata": {},
   "outputs": [],
   "source": []
  }
 ],
 "metadata": {
  "kernelspec": {
   "display_name": "Python 3",
   "language": "python",
   "name": "python3"
  },
  "language_info": {
   "codemirror_mode": {
    "name": "ipython",
    "version": 3
   },
   "file_extension": ".py",
   "mimetype": "text/x-python",
   "name": "python",
   "nbconvert_exporter": "python",
   "pygments_lexer": "ipython3",
   "version": "3.8.8"
  }
 },
 "nbformat": 4,
 "nbformat_minor": 5
}
